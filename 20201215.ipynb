{
  "nbformat": 4,
  "nbformat_minor": 0,
  "metadata": {
    "colab": {
      "name": "20201215.ipynb",
      "private_outputs": true,
      "provenance": [],
      "collapsed_sections": [],
      "authorship_tag": "ABX9TyMJjyQOPCpkDYUiOpPMtYXW",
      "include_colab_link": true
    },
    "kernelspec": {
      "name": "python3",
      "display_name": "Python 3"
    }
  },
  "cells": [
    {
      "cell_type": "markdown",
      "metadata": {
        "id": "view-in-github",
        "colab_type": "text"
      },
      "source": [
        "<a href=\"https://colab.research.google.com/github/gusanans218/Python/blob/master/20201215.ipynb\" target=\"_parent\"><img src=\"https://colab.research.google.com/assets/colab-badge.svg\" alt=\"Open In Colab\"/></a>"
      ]
    },
    {
      "cell_type": "code",
      "metadata": {
        "id": "hthJdUWCrz1J"
      },
      "source": [
        "name1 = \"김민수\"\r\n",
        "age1 = 10\r\n",
        "name2 = \"이철희\"\r\n",
        "age2 = 13\r\n",
        "print(\"이름 : %s 나이 : %d\" %(name1, age1))\r\n",
        "print(\"이름 : %s 나이 : %d\" %(name2, age2))"
      ],
      "execution_count": null,
      "outputs": []
    },
    {
      "cell_type": "code",
      "metadata": {
        "id": "ehC6h2MGsqkL"
      },
      "source": [
        "movie_rank = [\"닥터 스트레인지\", \"스플릿\", \"럭키\"]\r\n",
        "movie_rank.append(\"배트맨\")\r\n",
        "print(movie_rank)"
      ],
      "execution_count": null,
      "outputs": []
    },
    {
      "cell_type": "code",
      "metadata": {
        "id": "f6QoW4kZtMlw"
      },
      "source": [
        "movie_rank = [\"닥터 스트레인지\",\"슈퍼맨\", \"스플릿\", \"럭키\",\"배트맨\"]\r\n",
        "del movie_rank[3]\r\n",
        "print(movie_rank)\r\n"
      ],
      "execution_count": null,
      "outputs": []
    },
    {
      "cell_type": "code",
      "metadata": {
        "id": "8hfyoLq4tnQB"
      },
      "source": [
        "lang1 = [\"C\", \"C++\", \"JAVA\"]\r\n",
        "lang2 = [\"Python\", \"Go\",\"C#\"]\r\n",
        "langs = lang1 + lang2\r\n",
        "print(langs)"
      ],
      "execution_count": null,
      "outputs": []
    },
    {
      "cell_type": "code",
      "metadata": {
        "id": "tyB9iPfouAvH"
      },
      "source": [
        "nums = [1,2,3,4,5,6,7]\r\n",
        "print(\"max :\", max(nums))\r\n",
        "print(\"min :\", min(nums))"
      ],
      "execution_count": null,
      "outputs": []
    },
    {
      "cell_type": "code",
      "metadata": {
        "id": "sXzIzZKGuS5A"
      },
      "source": [
        "nums = [1,2,3,4,5]\r\n",
        "print(sum(nums))"
      ],
      "execution_count": null,
      "outputs": []
    },
    {
      "cell_type": "code",
      "metadata": {
        "id": "-0BNByaRui6w"
      },
      "source": [
        "nums = [1,2,3,4,50]\r\n",
        "average = sum(nums)/len(nums)\r\n",
        "print(average)"
      ],
      "execution_count": null,
      "outputs": []
    },
    {
      "cell_type": "code",
      "metadata": {
        "id": "T2ZMqhRQvowj"
      },
      "source": [
        "price = ['20180728', 100,130,140,150,160,170]\r\n",
        "print(price[1:])"
      ],
      "execution_count": null,
      "outputs": []
    },
    {
      "cell_type": "code",
      "metadata": {
        "id": "R8NIf5puv4n-"
      },
      "source": [
        "nums = [1,2,3,4,5,6,7,8,9,10]\r\n",
        "print(nums[::2])"
      ],
      "execution_count": null,
      "outputs": []
    },
    {
      "cell_type": "code",
      "metadata": {
        "id": "FY0sEindwdN0"
      },
      "source": [
        "nums = [1,2,3,4,5,6,7,8,9,10]\r\n",
        "print(nums[1::2])"
      ],
      "execution_count": null,
      "outputs": []
    },
    {
      "cell_type": "code",
      "metadata": {
        "id": "QSdye7Hewuzd"
      },
      "source": [
        "nums = [1,2,3,4,5]\r\n",
        "print(nums[::-1])"
      ],
      "execution_count": null,
      "outputs": []
    },
    {
      "cell_type": "code",
      "metadata": {
        "id": "kfghKhziw-RA"
      },
      "source": [
        "interest = ['삼성전자', 'LG전자', 'Naver']\r\n",
        "print(interest[0], interest[2])"
      ],
      "execution_count": null,
      "outputs": []
    },
    {
      "cell_type": "code",
      "metadata": {
        "id": "6-wRrqjRxbSx"
      },
      "source": [
        "interest = ['삼성전자', 'LG전자', 'Naver','SK하이닉스', '미래에셋대우']\r\n",
        "print(\" \".join(interest))"
      ],
      "execution_count": null,
      "outputs": []
    },
    {
      "cell_type": "code",
      "metadata": {
        "id": "SnV3OEfAyqqF"
      },
      "source": [
        "data = [2, 4, 3, 1, 5, 10, 9]\r\n",
        "data.sort()\r\n",
        "print(data)"
      ],
      "execution_count": null,
      "outputs": []
    },
    {
      "cell_type": "code",
      "metadata": {
        "id": "PZHH76NRzgAs"
      },
      "source": [
        "temp = ('apple','banana','cake')\r\n",
        "a,b,c = temp\r\n",
        "print(a,b,c)"
      ],
      "execution_count": null,
      "outputs": []
    }
  ]
}